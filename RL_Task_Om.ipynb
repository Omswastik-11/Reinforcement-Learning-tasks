{
 "cells": [
  {
   "cell_type": "code",
   "execution_count": 1,
   "id": "2d85ce86-f4cc-4fc7-a46f-266a819a46f2",
   "metadata": {},
   "outputs": [
    {
     "name": "stdout",
     "output_type": "stream",
     "text": [
      "pygame 2.6.0 (SDL 2.28.4, Python 3.8.19)\n",
      "Hello from the pygame community. https://www.pygame.org/contribute.html\n"
     ]
    }
   ],
   "source": [
    "import numpy as np\n",
    "import pygame\n",
    "import time\n",
    "from pettingzoo.utils import agent_selector\n",
    "from pettingzoo.utils.env import AECEnv\n",
    "from gym import spaces\n",
    "from pettingzoo.utils import wrappers"
   ]
  },
  {
   "cell_type": "code",
   "execution_count": 2,
   "id": "e06fa4d6-c0c2-4a4a-87e3-ca60b7d54cb4",
   "metadata": {},
   "outputs": [],
   "source": [
    "class MazeXEnv(AECEnv):\n",
    "    metadata = {'render_modes':['human','ansi']}\n",
    "    def __init__(self):\n",
    "        super().__init__()\n",
    "        self.maze = np.array([\n",
    "            [0,0,0,1,0,1,0,0,0,1,0,0,0,1,0,0,0,0,0,1],\n",
    "            [1,1,0,1,0,1,0,1,0,1,0,1,0,1,0,1,1,1,0,1],\n",
    "            [0,0,0,1,0,0,0,1,0,0,0,1,0,1,0,1,0,0,0,1],\n",
    "            [0,1,1,1,1,1,1,1,0,1,1,1,0,1,0,1,0,1,1,1],\n",
    "            [0,1,0,0,0,0,0,1,0,0,0,1,0,0,0,1,0,0,0,1],\n",
    "            [0,1,0,1,1,1,0,1,1,1,1,1,0,1,1,1,1,1,0,1],\n",
    "            [0,0,0,1,0,1,0,0,0,1,0,0,0,0,0,1,0,0,0,1],\n",
    "            [1,1,1,1,0,1,1,1,0,1,0,1,0,0,0,0,0,1,0,1],\n",
    "            [0,0,0,0,0,0,0,1,0,1,0,1,0,1,1,1,0,1,0,1],\n",
    "            [0,1,1,1,0,1,1,1,0,0,0,1,0,0,0,1,0,1,1,1],\n",
    "            [0,1,0,1,0,0,0,0,0,1,0,1,0,1,0,1,0,0,0,1],\n",
    "            [0,1,0,1,1,1,1,1,1,1,1,1,0,1,1,1,1,1,0,1],\n",
    "            [0,0,0,0,0,0,0,0,0,1,0,0,0,1,0,0,0,0,0,1],\n",
    "            [0,1,0,1,1,1,1,0,1,1,0,1,1,1,1,1,1,1,0,1],\n",
    "            [0,1,0,0,0,1,0,0,0,0,0,0,0,0,0,0,0,0,0,0]\n",
    "        ])\n",
    "        self._cumulative_rewards = {'robber': 0, 'cop': 0}\n",
    "        self.start = (0, 0)\n",
    "        self.goal = (14,19)\n",
    "        self.checkpoints = [(14, 6), (10, 9), (13, 10), (10, 2)]\n",
    "        self.state = self.start\n",
    "        self.cop_state = (14, 0)\n",
    "       \n",
    "        self.agents = ['robber', 'cop']\n",
    "        self.agent_order = self.agents\n",
    "        self._agent_selector = agent_selector(self.agent_order)\n",
    "        self.agent_selection = self._agent_selector.next()\n",
    "       \n",
    "        self.observation_spaces = {agent: spaces.Box(low=0, high=max(self.maze.shape)-1, shape=(2,), dtype=np.int32) for agent in self.agents}\n",
    "        self.action_spaces = {agent: spaces.Discrete(4) for agent in self.agents}\n",
    "       \n",
    "        self.rewards = {agent: 0 for agent in self.agents}\n",
    "        self.dones = {agent: False for agent in self.agents}\n",
    "        self.infos = {agent: {} for agent in self.agents}\n",
    "\n",
    "        self.render_mode = 'human'  # Added render_mode attribute\n",
    "       \n",
    "        # Pygame setup\n",
    "        self.screen_width = 800\n",
    "        self.screen_height = 600\n",
    "        self.screen_size = (self.screen_width, self.screen_height)\n",
    "        self.cell_size = min(self.screen_width // self.maze.shape[1], self.screen_height // self.maze.shape[0])\n",
    "        pygame.init()\n",
    "        self.screen = pygame.display.set_mode(self.screen_size)\n",
    "        pygame.display.set_caption('MazeX')\n",
    "\n",
    "    def observe(self, agent):\n",
    "        if agent == 'robber':\n",
    "            return np.array(self.state)\n",
    "        elif agent == 'cop':\n",
    "            return np.array(self.cop_state)\n",
    "\n",
    "    def reset(self, seed=None, options=None):  # Modified reset to accept seed and options\n",
    "        self.state = self.start\n",
    "        self.cop_state = (14, 0)\n",
    "        self.rewards = {agent: 0 for agent in self.agents}\n",
    "        self.dones = {agent: False for agent in self.agents}\n",
    "        self.infos = {agent: {} for agent in self.agents}\n",
    "        self.agent_selection = self._agent_selector.reset()\n",
    "        self._cumulative_rewards = {'robber': 0, 'cop': 0}\n",
    "   \n",
    "    def step(self, action):\n",
    "        agent = self.agent_selection\n",
    "       \n",
    "        if agent == 'robber':\n",
    "            current_row, current_col = self.state\n",
    "            next_state = list(self.state)\n",
    "           \n",
    "            if action == 0:  # Move right\n",
    "                if current_col + 1 < self.maze.shape[1] and self.maze[current_row, current_col + 1] == 0:\n",
    "                    next_state[1] += 1\n",
    "            elif action == 1:  # Move down\n",
    "                if current_row + 1 < self.maze.shape[0] and self.maze[current_row + 1, current_col] == 0:\n",
    "                    next_state[0] += 1\n",
    "            elif action == 2:  # Move up\n",
    "                if current_row - 1 >= 0 and self.maze[current_row - 1, current_col] == 0:\n",
    "                    next_state[0] -= 1\n",
    "            elif action == 3:  # Move left\n",
    "                if current_col - 1 >= 0 and self.maze[current_row, current_col - 1] == 0:\n",
    "                    next_state[1] -= 1\n",
    "           \n",
    "            self.rewards[agent] = -1  # Each step costs -1\n",
    "            if next_state != list(self.state):\n",
    "                self.state = tuple(next_state)\n",
    "                if self.state in self.checkpoints:\n",
    "                    self.rewards[agent] += 30  # Checkpoint reached\n",
    "                if self.state == self.goal:\n",
    "                    self.rewards[agent] += 100  # Goal reached\n",
    "                    self.dones = {agent: True for agent in self.agents}\n",
    "            else:\n",
    "                self.dones[agent] = False\n",
    "\n",
    "        elif agent == 'cop':\n",
    "            cop_action = self.cop_move()\n",
    "            self.cop_step(cop_action)\n",
    "            self.rewards[agent] = -1  # Each step costs -1\n",
    "       \n",
    "        # Check if cop catches the robber\n",
    "        if self.cop_state == self.state:\n",
    "            self.dones = {agent: True for agent in self.agents}\n",
    "            self.rewards['robber'] -= 100  # Negative reward if cop catches the robber\n",
    "       \n",
    "        self.agent_selection = self._agent_selector.next()\n",
    "        self._accumulate_rewards()\n",
    "\n",
    "    def cop_move(self):\n",
    "        cop_row, cop_col = self.cop_state\n",
    "        agent_row, agent_col = self.state\n",
    "       \n",
    "        if cop_row < agent_row and self.maze[cop_row + 1, cop_col] == 0:\n",
    "            return 1  # Move down\n",
    "        elif cop_row > agent_row and self.maze[cop_row - 1, cop_col] == 0:\n",
    "            return 2  # Move up\n",
    "        elif cop_col < agent_col and self.maze[cop_row, cop_col + 1] == 0:\n",
    "            return 0  # Move right\n",
    "        elif cop_col > agent_col and self.maze[cop_row, cop_col - 1] == 0:\n",
    "            return 3  # Move left\n",
    "        return np.random.choice([0, 1, 2, 3])  # Random move if blocked\n",
    "   \n",
    "    def cop_step(self, action):\n",
    "        cop_row, cop_col = self.cop_state\n",
    "        next_cop_state = list(self.cop_state)\n",
    "       \n",
    "        if action == 0: # Move right\n",
    "            if cop_col + 1 < self.maze.shape[1] and self.maze[cop_row, cop_col + 1] == 0:\n",
    "                next_cop_state[1] += 1\n",
    "        elif action == 1:  # Move down\n",
    "            if cop_row + 1 < self.maze.shape[0] and self.maze[cop_row + 1, cop_col] == 0:\n",
    "                next_cop_state[0] += 1\n",
    "        elif action == 2:  # Move up\n",
    "            if cop_row - 1 >= 0 and self.maze[cop_row - 1, cop_col] == 0:\n",
    "                next_cop_state[0] -= 1\n",
    "        elif action == 3:  # Move left\n",
    "            if cop_col - 1 >= 0 and self.maze[cop_row, cop_col - 1] == 0:\n",
    "                next_cop_state[1] -= 1\n",
    "       \n",
    "        self.cop_state = tuple(next_cop_state)\n",
    "\n",
    "    def render(self, mode='human'):\n",
    "        self.screen.fill((255, 255, 255)) # White background\n",
    "\n",
    "        # Draw the maze\n",
    "        for row in range(self.maze.shape[0]):\n",
    "            for col in range(self.maze.shape[1]):\n",
    "                color = (255, 255, 255) # white color for paths\n",
    "                if self.maze[row, col] == 1:\n",
    "                    color = (0, 0, 0) # black color for Walls\n",
    "                pygame.draw.rect(self.screen, color,\n",
    "                                 pygame.Rect(col * self.cell_size, row * self.cell_size, self.cell_size, self.cell_size))\n",
    "\n",
    "        # Draw the start position as green color\n",
    "        pygame.draw.rect(self.screen, (0, 255, 0),\n",
    "                         pygame.Rect(self.start[1] * self.cell_size, self.start[0] * self.cell_size, self.cell_size, self.cell_size))\n",
    "\n",
    "        # Draw the goal position as red color\n",
    "        pygame.draw.rect(self.screen, (255, 0, 0),\n",
    "                         pygame.Rect(self.goal[1] * self.cell_size, self.goal[0] * self.cell_size, self.cell_size, self.cell_size))\n",
    "\n",
    "        # Draw checkpoints as blue color\n",
    "        for cp in self.checkpoints:\n",
    "            pygame.draw.rect(self.screen, (0, 0, 255),\n",
    "                             pygame.Rect(cp[1] * self.cell_size, cp[0] * self.cell_size, self.cell_size, self.cell_size))\n",
    "\n",
    "        # Draw the robber as a yellow colored square\n",
    "        pygame.draw.rect(self.screen, (255, 255, 0),\n",
    "                         pygame.Rect(self.state[1] * self.cell_size, self.state[0] * self.cell_size, self.cell_size, self.cell_size))\n",
    "\n",
    "        # Draw the cop as an orange colored square\n",
    "        pygame.draw.rect(self.screen, (255, 165, 0),\n",
    "                         pygame.Rect(self.cop_state[1] * self.cell_size, self.cop_state[0] * self.cell_size, self.cell_size, self.cell_size))\n",
    "\n",
    "        pygame.display.flip()\n",
    "        time.sleep(0.1)\n",
    "\n",
    "    def close(self):\n",
    "        pygame.quit()\n",
    "\n",
    "    def check_event(self):\n",
    "        for event in pygame.event.get():\n",
    "            if event.type == pygame.QUIT:\n",
    "                self.close()\n",
    "                exit()\n",
    "\n",
    "# Wrapping the environment\n",
    "def env():\n",
    "    env = MazeXEnv()\n",
    "    env = wrappers.CaptureStdoutWrapper(env)\n",
    "    return env\n",
    "\n"
   ]
  },
  {
   "cell_type": "code",
   "execution_count": 3,
   "id": "65b87565-25a9-44e6-9850-b476259ee049",
   "metadata": {},
   "outputs": [],
   "source": [
    "import torch\n",
    "import torch.nn as nn\n",
    "import torch.optim as optim\n",
    "import matplotlib.pyplot as plt\n",
    "\n",
    "# Define the neural networks for PPO with separate actor and critic networks\n",
    "class ActorNetwork(nn.Module):\n",
    "    def __init__(self, input_dim, output_dim):\n",
    "        super(ActorNetwork, self).__init__()\n",
    "        self.fc1 = nn.Linear(input_dim, 128)\n",
    "        self.fc2 = nn.Linear(128, 256)\n",
    "        self.fc3 = nn.Linear(256, 128)\n",
    "        self.fc4 = nn.Linear(128, output_dim)\n",
    "       \n",
    "    def forward(self, x):\n",
    "        x = torch.relu(self.fc1(x))\n",
    "        x = torch.relu(self.fc2(x))\n",
    "        x = torch.relu(self.fc3(x))\n",
    "        x = torch.softmax(self.fc4(x), dim=-1)\n",
    "        return x\n",
    "        \n",
    "class CriticNetwork(nn.Module):\n",
    "    def __init__(self, input_dim):\n",
    "        super(CriticNetwork, self).__init__()\n",
    "        self.fc1 = nn.Linear(input_dim, 128)\n",
    "        self.fc2 = nn.Linear(128, 256)\n",
    "        self.fc3 = nn.Linear(256, 128)\n",
    "        self.fc4 = nn.Linear(128, 1)\n",
    "       \n",
    "    def forward(self, x):\n",
    "        x = torch.relu(self.fc1(x))\n",
    "        x = torch.relu(self.fc2(x))\n",
    "        x = torch.relu(self.fc3(x))\n",
    "        x = self.fc4(x)\n",
    "        return x"
   ]
  },
  {
   "cell_type": "code",
   "execution_count": 4,
   "id": "6c5f4e6b-04ad-41f8-863f-d84af5f7ad26",
   "metadata": {},
   "outputs": [
    {
     "data": {
      "image/png": "[encoded data removed]",
      "text/plain": [
       "<Figure size 640x480 with 1 Axes>"
      ]
     },
     "metadata": {},
     "output_type": "display_data"
    },
    {
     "name": "stderr",
     "output_type": "stream",
     "text": [
      "C:\\Users\\dell\\AppData\\Local\\Temp\\ipykernel_21024\\1810912911.py:34: UserWarning: Creating a tensor from a list of numpy.ndarrays is extremely slow. Please consider converting the list to a single numpy.ndarray with numpy.array() before converting to a tensor. (Triggered internally at C:\\actions-runner\\_work\\pytorch\\pytorch\\builder\\windows\\pytorch\\torch\\csrc\\utils\\tensor_new.cpp:277.)\n",
      "  states = torch.FloatTensor(self.states)\n"
     ]
    },
    {
     "name": "stdout",
     "output_type": "stream",
     "text": [
      "Episode 0 - Total Reward Robber: -1072, Total Reward Cop: -971\n"
     ]
    },
    {
     "data": {
      "text/plain": [
       "<Figure size 640x480 with 0 Axes>"
      ]
     },
     "metadata": {},
     "output_type": "display_data"
    },
    {
     "name": "stdout",
     "output_type": "stream",
     "text": [
      "Episode 1 - Total Reward Robber: -1054, Total Reward Cop: -1054\n"
     ]
    },
    {
     "data": {
      "text/plain": [
       "<Figure size 640x480 with 0 Axes>"
      ]
     },
     "metadata": {},
     "output_type": "display_data"
    },
    {
     "name": "stdout",
     "output_type": "stream",
     "text": [
      "Episode 2 - Total Reward Robber: -3383, Total Reward Cop: -3282\n"
     ]
    },
    {
     "data": {
      "text/plain": [
       "<Figure size 640x480 with 0 Axes>"
      ]
     },
     "metadata": {},
     "output_type": "display_data"
    },
    {
     "name": "stdout",
     "output_type": "stream",
     "text": [
      "Episode 3 - Total Reward Robber: -1597, Total Reward Cop: -1597\n"
     ]
    },
    {
     "data": {
      "text/plain": [
       "<Figure size 640x480 with 0 Axes>"
      ]
     },
     "metadata": {},
     "output_type": "display_data"
    },
    {
     "name": "stdout",
     "output_type": "stream",
     "text": [
      "Episode 4 - Total Reward Robber: -509, Total Reward Cop: -509\n"
     ]
    },
    {
     "data": {
      "text/plain": [
       "<Figure size 640x480 with 0 Axes>"
      ]
     },
     "metadata": {},
     "output_type": "display_data"
    },
    {
     "name": "stdout",
     "output_type": "stream",
     "text": [
      "Episode 5 - Total Reward Robber: -969, Total Reward Cop: -969\n"
     ]
    },
    {
     "data": {
      "text/plain": [
       "<Figure size 640x480 with 0 Axes>"
      ]
     },
     "metadata": {},
     "output_type": "display_data"
    },
    {
     "name": "stdout",
     "output_type": "stream",
     "text": [
      "Episode 6 - Total Reward Robber: -208, Total Reward Cop: -208\n"
     ]
    },
    {
     "data": {
      "text/plain": [
       "<Figure size 640x480 with 0 Axes>"
      ]
     },
     "metadata": {},
     "output_type": "display_data"
    },
    {
     "name": "stdout",
     "output_type": "stream",
     "text": [
      "Episode 7 - Total Reward Robber: -1513, Total Reward Cop: -1412\n"
     ]
    },
    {
     "data": {
      "text/plain": [
       "<Figure size 640x480 with 0 Axes>"
      ]
     },
     "metadata": {},
     "output_type": "display_data"
    },
    {
     "name": "stdout",
     "output_type": "stream",
     "text": [
      "Episode 8 - Total Reward Robber: -1765, Total Reward Cop: -2974\n"
     ]
    },
    {
     "data": {
      "text/plain": [
       "<Figure size 640x480 with 0 Axes>"
      ]
     },
     "metadata": {},
     "output_type": "display_data"
    },
    {
     "name": "stdout",
     "output_type": "stream",
     "text": [
      "Episode 9 - Total Reward Robber: -1647, Total Reward Cop: -1647\n"
     ]
    },
    {
     "data": {
      "text/plain": [
       "<Figure size 640x480 with 0 Axes>"
      ]
     },
     "metadata": {},
     "output_type": "display_data"
    },
    {
     "name": "stdout",
     "output_type": "stream",
     "text": [
      "Episode 10 - Total Reward Robber: -725, Total Reward Cop: -824\n"
     ]
    },
    {
     "data": {
      "text/plain": [
       "<Figure size 640x480 with 0 Axes>"
      ]
     },
     "metadata": {},
     "output_type": "display_data"
    },
    {
     "name": "stdout",
     "output_type": "stream",
     "text": [
      "Episode 11 - Total Reward Robber: -2356, Total Reward Cop: -2255\n"
     ]
    },
    {
     "ename": "error",
     "evalue": "display Surface quit",
     "output_type": "error",
     "traceback": [
      "\u001b[1;31m---------------------------------------------------------------------------\u001b[0m",
      "\u001b[1;31merror\u001b[0m                                     Traceback (most recent call last)",
      "Cell \u001b[1;32mIn[4], line 162\u001b[0m\n\u001b[0;32m    160\u001b[0m \u001b[38;5;28;01mif\u001b[39;00m \u001b[38;5;18m__name__\u001b[39m \u001b[38;5;241m==\u001b[39m \u001b[38;5;124m\"\u001b[39m\u001b[38;5;124m__main__\u001b[39m\u001b[38;5;124m\"\u001b[39m:\n\u001b[0;32m    161\u001b[0m     env_instance \u001b[38;5;241m=\u001b[39m env()\n\u001b[1;32m--> 162\u001b[0m     agent_robber, agent_cop, rewards_robber, rewards_cop \u001b[38;5;241m=\u001b[39m \u001b[43mtrain_ppo\u001b[49m\u001b[43m(\u001b[49m\u001b[43menv_instance\u001b[49m\u001b[43m)\u001b[49m\n",
      "Cell \u001b[1;32mIn[4], line 133\u001b[0m, in \u001b[0;36mtrain_ppo\u001b[1;34m(env, num_episodes, update_interval)\u001b[0m\n\u001b[0;32m    130\u001b[0m         \u001b[38;5;28;01mif\u001b[39;00m done:\n\u001b[0;32m    131\u001b[0m             \u001b[38;5;28;01mbreak\u001b[39;00m\n\u001b[1;32m--> 133\u001b[0m     \u001b[43menv\u001b[49m\u001b[38;5;241;43m.\u001b[39;49m\u001b[43mrender\u001b[49m\u001b[43m(\u001b[49m\u001b[43m)\u001b[49m\n\u001b[0;32m    134\u001b[0m     env\u001b[38;5;241m.\u001b[39mcheck_event()\n\u001b[0;32m    136\u001b[0m rewards_robber\u001b[38;5;241m.\u001b[39mappend(total_reward_robber)\n",
      "File \u001b[1;32m~\\anaconda3\\envs\\tensorflow\\lib\\site-packages\\pettingzoo\\utils\\wrappers\\capture_stdout.py:23\u001b[0m, in \u001b[0;36mCaptureStdoutWrapper.render\u001b[1;34m(self)\u001b[0m\n\u001b[0;32m     21\u001b[0m \u001b[38;5;28;01mdef\u001b[39;00m \u001b[38;5;21mrender\u001b[39m(\u001b[38;5;28mself\u001b[39m) \u001b[38;5;241m-\u001b[39m\u001b[38;5;241m>\u001b[39m \u001b[38;5;28mstr\u001b[39m:\n\u001b[0;32m     22\u001b[0m     \u001b[38;5;28;01mwith\u001b[39;00m capture_stdout() \u001b[38;5;28;01mas\u001b[39;00m stdout:\n\u001b[1;32m---> 23\u001b[0m         \u001b[38;5;28;43msuper\u001b[39;49m\u001b[43m(\u001b[49m\u001b[43m)\u001b[49m\u001b[38;5;241;43m.\u001b[39;49m\u001b[43mrender\u001b[49m\u001b[43m(\u001b[49m\u001b[43m)\u001b[49m\n\u001b[0;32m     24\u001b[0m         val \u001b[38;5;241m=\u001b[39m stdout\u001b[38;5;241m.\u001b[39mgetvalue()\n\u001b[0;32m     25\u001b[0m     \u001b[38;5;28;01mreturn\u001b[39;00m val\n",
      "File \u001b[1;32m~\\anaconda3\\envs\\tensorflow\\lib\\site-packages\\pettingzoo\\utils\\wrappers\\base.py:35\u001b[0m, in \u001b[0;36mBaseWrapper.render\u001b[1;34m(self)\u001b[0m\n\u001b[0;32m     34\u001b[0m \u001b[38;5;28;01mdef\u001b[39;00m \u001b[38;5;21mrender\u001b[39m(\u001b[38;5;28mself\u001b[39m) \u001b[38;5;241m-\u001b[39m\u001b[38;5;241m>\u001b[39m \u001b[38;5;28;01mNone\u001b[39;00m \u001b[38;5;241m|\u001b[39m np\u001b[38;5;241m.\u001b[39mndarray \u001b[38;5;241m|\u001b[39m \u001b[38;5;28mstr\u001b[39m \u001b[38;5;241m|\u001b[39m \u001b[38;5;28mlist\u001b[39m:\n\u001b[1;32m---> 35\u001b[0m     \u001b[38;5;28;01mreturn\u001b[39;00m \u001b[38;5;28;43mself\u001b[39;49m\u001b[38;5;241;43m.\u001b[39;49m\u001b[43menv\u001b[49m\u001b[38;5;241;43m.\u001b[39;49m\u001b[43mrender\u001b[49m\u001b[43m(\u001b[49m\u001b[43m)\u001b[49m\n",
      "Cell \u001b[1;32mIn[2], line 145\u001b[0m, in \u001b[0;36mMazeXEnv.render\u001b[1;34m(self, mode)\u001b[0m\n\u001b[0;32m    144\u001b[0m \u001b[38;5;28;01mdef\u001b[39;00m \u001b[38;5;21mrender\u001b[39m(\u001b[38;5;28mself\u001b[39m, mode\u001b[38;5;241m=\u001b[39m\u001b[38;5;124m'\u001b[39m\u001b[38;5;124mhuman\u001b[39m\u001b[38;5;124m'\u001b[39m):\n\u001b[1;32m--> 145\u001b[0m     \u001b[38;5;28;43mself\u001b[39;49m\u001b[38;5;241;43m.\u001b[39;49m\u001b[43mscreen\u001b[49m\u001b[38;5;241;43m.\u001b[39;49m\u001b[43mfill\u001b[49m\u001b[43m(\u001b[49m\u001b[43m(\u001b[49m\u001b[38;5;241;43m255\u001b[39;49m\u001b[43m,\u001b[49m\u001b[43m \u001b[49m\u001b[38;5;241;43m255\u001b[39;49m\u001b[43m,\u001b[49m\u001b[43m \u001b[49m\u001b[38;5;241;43m255\u001b[39;49m\u001b[43m)\u001b[49m\u001b[43m)\u001b[49m \u001b[38;5;66;03m# White background\u001b[39;00m\n\u001b[0;32m    147\u001b[0m     \u001b[38;5;66;03m# Draw the maze\u001b[39;00m\n\u001b[0;32m    148\u001b[0m     \u001b[38;5;28;01mfor\u001b[39;00m row \u001b[38;5;129;01min\u001b[39;00m \u001b[38;5;28mrange\u001b[39m(\u001b[38;5;28mself\u001b[39m\u001b[38;5;241m.\u001b[39mmaze\u001b[38;5;241m.\u001b[39mshape[\u001b[38;5;241m0\u001b[39m]):\n",
      "\u001b[1;31merror\u001b[0m: display Surface quit"
     ]
    }
   ],
   "source": [
    "class PPOAgent:\n",
    "    def __init__(self, env, input_dim, action_dim, lr=3e-4, gamma=0.99, clip_ratio=0.2, update_interval=2000):\n",
    "        self.env = env\n",
    "        self.gamma = gamma\n",
    "        self.clip_ratio = clip_ratio\n",
    "        self.update_interval = update_interval\n",
    "\n",
    "        self.actor = ActorNetwork(input_dim, action_dim)\n",
    "        self.critic = CriticNetwork(input_dim)\n",
    "        self.optimizer_actor = optim.Adam(self.actor.parameters(), lr=lr)\n",
    "        self.optimizer_critic = optim.Adam(self.critic.parameters(), lr=lr)\n",
    "\n",
    "        self.states = []\n",
    "        self.actions = []\n",
    "        self.rewards = []\n",
    "        self.log_probs = []\n",
    "\n",
    "    def get_action(self, state):\n",
    "        state = torch.FloatTensor(state).unsqueeze(0)\n",
    "        with torch.no_grad():\n",
    "            action_logits = self.actor(state)\n",
    "        action_prob = torch.softmax(action_logits, dim=-1)\n",
    "        action = torch.multinomial(action_prob, 1).item()\n",
    "        log_prob = torch.log(action_prob.squeeze(0)[action])\n",
    "        return action, log_prob\n",
    "\n",
    "    def store_transition(self, state, action, reward, log_prob):\n",
    "        self.states.append(state)\n",
    "        self.actions.append(action)\n",
    "        self.rewards.append(reward)\n",
    "        self.log_probs.append(log_prob)\n",
    "\n",
    "    def update(self):\n",
    "        states = torch.FloatTensor(self.states)\n",
    "        actions = torch.LongTensor(self.actions)\n",
    "        rewards = torch.FloatTensor(self.rewards)\n",
    "        log_probs = torch.FloatTensor(self.log_probs)\n",
    "\n",
    "        old_values = self.critic(states).squeeze()\n",
    "        returns = self.compute_returns(rewards)\n",
    "\n",
    "        advantages = returns - old_values.detach()\n",
    "\n",
    "        for _ in range(10):  # PPO updates\n",
    "            new_log_probs, values = self.evaluate_actions(states, actions)\n",
    "            values = values.squeeze()\n",
    "            ratios = torch.exp(new_log_probs - log_probs)\n",
    "\n",
    "            surr1 = ratios * advantages\n",
    "            surr2 = torch.clamp(ratios, 1 - self.clip_ratio, 1 + self.clip_ratio) * advantages\n",
    "            policy_loss = -torch.min(surr1, surr2).mean()\n",
    "\n",
    "            value_loss = (returns - values).pow(2).mean()\n",
    "\n",
    "            self.optimizer_actor.zero_grad()\n",
    "            self.optimizer_critic.zero_grad()\n",
    "            policy_loss.backward()\n",
    "            value_loss.backward()\n",
    "            self.optimizer_actor.step()\n",
    "            self.optimizer_critic.step()\n",
    "\n",
    "        self.states, self.actions, self.rewards, self.log_probs = [], [], [], []\n",
    "\n",
    "    def compute_returns(self, rewards):\n",
    "        returns = []\n",
    "        R = 0\n",
    "        for r in reversed(rewards):\n",
    "            R = r + self.gamma * R\n",
    "            returns.insert(0, R)\n",
    "        returns = torch.FloatTensor(returns)\n",
    "        return returns\n",
    "\n",
    "    def evaluate_actions(self, states, actions):\n",
    "        action_logits = self.actor(states)\n",
    "        values = self.critic(states)\n",
    "        action_probs = torch.softmax(action_logits, dim=-1)\n",
    "        action_log_probs = torch.log(action_probs.gather(1, actions.unsqueeze(1)).squeeze())\n",
    "        return action_log_probs, values\n",
    "\n",
    "def train_ppo(env, num_episodes=1000, update_interval=2000):\n",
    "    input_dim_robber = env.observation_spaces['robber'].shape[0]\n",
    "    action_dim_robber = env.action_spaces['robber'].n\n",
    "    input_dim_cop = env.observation_spaces['cop'].shape[0]\n",
    "    action_dim_cop = env.action_spaces['cop'].n\n",
    "\n",
    "    agent_robber = PPOAgent(env, input_dim_robber, action_dim_robber)\n",
    "    agent_cop = PPOAgent(env, input_dim_cop, action_dim_cop)\n",
    "\n",
    "    rewards_robber = []\n",
    "    rewards_cop = []\n",
    "\n",
    "    plt.ion()  # Turn on interactive mode\n",
    "    fig, ax = plt.subplots()\n",
    "    line1, = ax.plot(rewards_robber, label='Robber')\n",
    "    line2, = ax.plot(rewards_cop, label='Cop')\n",
    "    plt.xlabel('Episode')\n",
    "    plt.ylabel('Total Reward')\n",
    "    plt.legend()\n",
    "    plt.title('Cumulative Rewards vs Episodes')\n",
    "\n",
    "    for episode in range(num_episodes):\n",
    "        env.reset()\n",
    "        total_reward_robber = 0\n",
    "        total_reward_cop = 0\n",
    "        done = False\n",
    "\n",
    "        while not done:\n",
    "            for agent in env.agent_order:\n",
    "                state = env.observe(agent)\n",
    "                if agent == 'robber':\n",
    "                    action, log_prob = agent_robber.get_action(state)\n",
    "                    env.step(action)\n",
    "                    next_state = env.observe(agent)\n",
    "                    reward = env.rewards[agent]\n",
    "                    done = env.dones[agent]\n",
    "\n",
    "                    agent_robber.store_transition(state, action, reward, log_prob)\n",
    "                    total_reward_robber += reward\n",
    "\n",
    "                elif agent == 'cop':\n",
    "                    action, log_prob = agent_cop.get_action(state)\n",
    "                    env.step(action)\n",
    "                    next_state = env.observe(agent)\n",
    "                    reward = env.rewards[agent]\n",
    "                    done = env.dones[agent]\n",
    "\n",
    "                    agent_cop.store_transition(state, action, reward, log_prob)\n",
    "                    total_reward_cop += reward\n",
    "\n",
    "                if done:\n",
    "                    break\n",
    "\n",
    "            env.render()\n",
    "            env.check_event()\n",
    "\n",
    "        rewards_robber.append(total_reward_robber)\n",
    "        rewards_cop.append(total_reward_cop)\n",
    "\n",
    "        # Update the plot\n",
    "        line1.set_ydata(rewards_robber)\n",
    "        line1.set_xdata(range(len(rewards_robber)))\n",
    "        line2.set_ydata(rewards_cop)\n",
    "        line2.set_xdata(range(len(rewards_cop)))\n",
    "        ax.relim()\n",
    "        ax.autoscale_view()\n",
    "        plt.draw()\n",
    "        plt.pause(0.01)\n",
    "\n",
    "        if episode % agent_robber.update_interval == 0:\n",
    "            agent_robber.update()\n",
    "            agent_cop.update()\n",
    "\n",
    "        print(f\"Episode {episode} - Total Reward Robber: {total_reward_robber}, Total Reward Cop: {total_reward_cop}\")\n",
    "\n",
    "    plt.ioff()  # Turn off interactive mode\n",
    "    plt.show()\n",
    "\n",
    "    return agent_robber, agent_cop, rewards_robber, rewards_cop\n",
    "\n",
    "if __name__ == \"__main__\":\n",
    "    env_instance = env()\n",
    "    agent_robber, agent_cop, rewards_robber, rewards_cop = train_ppo(env_instance)"
   ]
  },
  {
   "cell_type": "code",
   "execution_count": null,
   "id": "46c9223b-4288-4008-878d-967e8b9d5c2a",
   "metadata": {},
   "outputs": [],
   "source": []
  }
 ],
 "metadata": {
  "kernelspec": {
   "display_name": "Python 3 (ipykernel)",
   "language": "python",
   "name": "python3"
  },
  "language_info": {
   "codemirror_mode": {
    "name": "ipython",
    "version": 3
   },
   "file_extension": ".py",
   "mimetype": "text/x-python",
   "name": "python",
   "nbconvert_exporter": "python",
   "pygments_lexer": "ipython3",
   "version": "3.8.19"
  }
 },
 "nbformat": 4,
 "nbformat_minor": 5
}
